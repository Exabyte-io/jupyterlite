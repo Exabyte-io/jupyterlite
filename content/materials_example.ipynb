{
  "cells": [
    {
      "cell_type": "code",
      "execution_count": null,
      "metadata": {},
      "outputs": [],
      "source": [
        "import micropip\n",
        "\n",
        "packages = [\n",
        "    \"https://files.mat3ra.com:44318/uploads/pymatgen-2023.9.10-py3-none-any.whl\",\n",
        "    \"https://files.mat3ra.com:44318/web/pyodide/spglib-2.0.2-py3-none-any.whl\",\n",
        "    \"https://files.pythonhosted.org/packages/d9/0e/2a05efa11ea33513fbdf4a2e2576fe94fd8fa5ad226dbb9c660886390974/ruamel.yaml-0.17.32-py3-none-any.whl\",\n",
        "    \"ase==3.22.1\",\n",
        "    \"networkx==3.2.1\",\n",
        "    \"monty==2023.11.3\",\n",
        "    \"scipy==1.11.2\",\n",
        "    \"lzma\",\n",
        "    \"tabulate==0.9.0\",\n",
        "    \"sqlite3\",\n",
        "    \"sympy==1.12\",\n",
        "    \"uncertainties==3.1.6\",\n",
        "]\n",
        "\n",
        "\n",
        "async def install_package(pkg):\n",
        "    \"\"\"\n",
        "    Installs a package in a Pyodide environment.\n",
        "    Args:\n",
        "        pkg: The name of the package to install.\n",
        "\n",
        "    Returns:\n",
        "        None\n",
        "    \"\"\"\n",
        "    is_url = pkg.startswith(\"http://\") or pkg.startswith(\"https://\")\n",
        "    are_dependencies_installed = not is_url\n",
        "    await micropip.install(pkg, deps=are_dependencies_installed)\n",
        "    # Extract package name for printing\n",
        "    pkg_name = pkg.split(\"/\")[-1].split(\"-\")[0] if is_url else pkg.split(\"==\")[0]\n",
        "    print(f\"Installed {pkg_name}\")\n",
        "\n",
        "\n",
        "for package in packages:\n",
        "    await install_package(package)"
      ]
    },
    {
      "cell_type": "code",
      "execution_count": null,
      "metadata": {
        "trusted": true
      },
      "outputs": [],
      "source": [
        "from definitions import submit, get_materials, to_pymatgen"
      ]
    },
    {
      "cell_type": "code",
      "execution_count": null,
      "metadata": {},
      "outputs": [],
      "source": [
        "# Load materials from Materials Designer list (JSON config format)\n",
        "get_materials()"
      ]
    },
    {
      "cell_type": "code",
      "execution_count": null,
      "metadata": {},
      "outputs": [],
      "source": [
        "# Work with materials\n",
        "# print(materials)\n",
        "\n",
        "m1 = to_pymatgen(materials[0])\n",
        "print(m1)"
      ]
    },
    {
      "cell_type": "code",
      "execution_count": null,
      "metadata": {},
      "outputs": [],
      "source": [
        "# Submit materials (JSON config format) back to Materials Designer\n",
        "submit(materials)"
      ]
    }
  ],
  "metadata": {
    "kernelspec": {
      "display_name": "Python (Pyodide)",
      "language": "python",
      "name": "python"
    },
    "language_info": {
      "codemirror_mode": {
        "name": "python",
        "version": 3
      },
      "file_extension": ".py",
      "mimetype": "text/x-python",
      "name": "python",
      "nbconvert_exporter": "python",
      "pygments_lexer": "ipython3",
      "version": "3.8"
    }
  },
  "nbformat": 4,
  "nbformat_minor": 4
}
