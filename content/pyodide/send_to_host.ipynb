{
  "cells": [
    {
      "cell_type": "code",
      "execution_count": 1,
      "metadata": {
        "trusted": true
      },
      "outputs": [
        {
          "data": {
            "application/javascript": "\n(function() {\n    window.parent.postMessage({\n        type: \"from-iframe-to-host\",\n        data: {\"key\": \"value\"}\n    }, \"http://localhost:3001\");\n})();\n",
            "text/plain": [
              "<IPython.core.display.Javascript object>"
            ]
          },
          "metadata": {},
          "output_type": "display_data"
        }
      ],
      "source": [
        "from IPython.display import display, Javascript\n",
        "import json\n",
        "\n",
        "LOCAL_URL = \"http://localhost:3001\"\n",
        "python_data = {\"key\": \"value\"}\n",
        "serialized_data = json.dumps(python_data)\n",
        "\n",
        "# Define the JavaScript code to send the message\n",
        "js_code = f\"\"\"\n",
        "(function() {{\n",
        "    window.parent.postMessage({{\n",
        "        type: \"from-iframe-to-host\",\n",
        "        data: {serialized_data}\n",
        "    }}, \"{LOCAL_URL}\");\n",
        "}})();\n",
        "\"\"\"\n",
        "\n",
        "# Execute the JavaScript code\n",
        "display(Javascript(js_code))"
      ]
    }
  ],
  "metadata": {
    "kernelspec": {
      "display_name": "Python (Pyodide)",
      "language": "python",
      "name": "python"
    },
    "language_info": {
      "codemirror_mode": {
        "name": "python",
        "version": 3
      },
      "file_extension": ".py",
      "mimetype": "text/x-python",
      "name": "python",
      "nbconvert_exporter": "python",
      "pygments_lexer": "ipython3",
      "version": "3.8"
    }
  },
  "nbformat": 4,
  "nbformat_minor": 4
}
